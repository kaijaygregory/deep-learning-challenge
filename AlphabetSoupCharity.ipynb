{
  "cells": [
    {
      "cell_type": "markdown",
      "metadata": {
        "id": "A4UtueONULH5"
      },
      "source": [
        "## Preprocessing"
      ]
    },
    {
      "cell_type": "code",
      "execution_count": 17,
      "metadata": {
        "colab": {
          "base_uri": "https://localhost:8080/",
          "height": 452
        },
        "id": "R6ikdqlfULH7",
        "outputId": "a5436adb-34bf-4dc6-cf55-01cacc28356e"
      },
      "outputs": [
        {
          "data": {
            "text/html": [
              "<div>\n",
              "<style scoped>\n",
              "    .dataframe tbody tr th:only-of-type {\n",
              "        vertical-align: middle;\n",
              "    }\n",
              "\n",
              "    .dataframe tbody tr th {\n",
              "        vertical-align: top;\n",
              "    }\n",
              "\n",
              "    .dataframe thead th {\n",
              "        text-align: right;\n",
              "    }\n",
              "</style>\n",
              "<table border=\"1\" class=\"dataframe\">\n",
              "  <thead>\n",
              "    <tr style=\"text-align: right;\">\n",
              "      <th></th>\n",
              "      <th>EIN</th>\n",
              "      <th>NAME</th>\n",
              "      <th>APPLICATION_TYPE</th>\n",
              "      <th>AFFILIATION</th>\n",
              "      <th>CLASSIFICATION</th>\n",
              "      <th>USE_CASE</th>\n",
              "      <th>ORGANIZATION</th>\n",
              "      <th>STATUS</th>\n",
              "      <th>INCOME_AMT</th>\n",
              "      <th>SPECIAL_CONSIDERATIONS</th>\n",
              "      <th>ASK_AMT</th>\n",
              "      <th>IS_SUCCESSFUL</th>\n",
              "    </tr>\n",
              "  </thead>\n",
              "  <tbody>\n",
              "    <tr>\n",
              "      <th>0</th>\n",
              "      <td>10520599</td>\n",
              "      <td>BLUE KNIGHTS MOTORCYCLE CLUB</td>\n",
              "      <td>T10</td>\n",
              "      <td>Independent</td>\n",
              "      <td>C1000</td>\n",
              "      <td>ProductDev</td>\n",
              "      <td>Association</td>\n",
              "      <td>1</td>\n",
              "      <td>0</td>\n",
              "      <td>N</td>\n",
              "      <td>5000</td>\n",
              "      <td>1</td>\n",
              "    </tr>\n",
              "    <tr>\n",
              "      <th>1</th>\n",
              "      <td>10531628</td>\n",
              "      <td>AMERICAN CHESAPEAKE CLUB CHARITABLE TR</td>\n",
              "      <td>T3</td>\n",
              "      <td>Independent</td>\n",
              "      <td>C2000</td>\n",
              "      <td>Preservation</td>\n",
              "      <td>Co-operative</td>\n",
              "      <td>1</td>\n",
              "      <td>1-9999</td>\n",
              "      <td>N</td>\n",
              "      <td>108590</td>\n",
              "      <td>1</td>\n",
              "    </tr>\n",
              "    <tr>\n",
              "      <th>2</th>\n",
              "      <td>10547893</td>\n",
              "      <td>ST CLOUD PROFESSIONAL FIREFIGHTERS</td>\n",
              "      <td>T5</td>\n",
              "      <td>CompanySponsored</td>\n",
              "      <td>C3000</td>\n",
              "      <td>ProductDev</td>\n",
              "      <td>Association</td>\n",
              "      <td>1</td>\n",
              "      <td>0</td>\n",
              "      <td>N</td>\n",
              "      <td>5000</td>\n",
              "      <td>0</td>\n",
              "    </tr>\n",
              "    <tr>\n",
              "      <th>3</th>\n",
              "      <td>10553066</td>\n",
              "      <td>SOUTHSIDE ATHLETIC ASSOCIATION</td>\n",
              "      <td>T3</td>\n",
              "      <td>CompanySponsored</td>\n",
              "      <td>C2000</td>\n",
              "      <td>Preservation</td>\n",
              "      <td>Trust</td>\n",
              "      <td>1</td>\n",
              "      <td>10000-24999</td>\n",
              "      <td>N</td>\n",
              "      <td>6692</td>\n",
              "      <td>1</td>\n",
              "    </tr>\n",
              "    <tr>\n",
              "      <th>4</th>\n",
              "      <td>10556103</td>\n",
              "      <td>GENETIC RESEARCH INSTITUTE OF THE DESERT</td>\n",
              "      <td>T3</td>\n",
              "      <td>Independent</td>\n",
              "      <td>C1000</td>\n",
              "      <td>Heathcare</td>\n",
              "      <td>Trust</td>\n",
              "      <td>1</td>\n",
              "      <td>100000-499999</td>\n",
              "      <td>N</td>\n",
              "      <td>142590</td>\n",
              "      <td>1</td>\n",
              "    </tr>\n",
              "  </tbody>\n",
              "</table>\n",
              "</div>"
            ],
            "text/plain": [
              "        EIN                                      NAME APPLICATION_TYPE  \\\n",
              "0  10520599              BLUE KNIGHTS MOTORCYCLE CLUB              T10   \n",
              "1  10531628    AMERICAN CHESAPEAKE CLUB CHARITABLE TR               T3   \n",
              "2  10547893        ST CLOUD PROFESSIONAL FIREFIGHTERS               T5   \n",
              "3  10553066            SOUTHSIDE ATHLETIC ASSOCIATION               T3   \n",
              "4  10556103  GENETIC RESEARCH INSTITUTE OF THE DESERT               T3   \n",
              "\n",
              "        AFFILIATION CLASSIFICATION      USE_CASE  ORGANIZATION  STATUS  \\\n",
              "0       Independent          C1000    ProductDev   Association       1   \n",
              "1       Independent          C2000  Preservation  Co-operative       1   \n",
              "2  CompanySponsored          C3000    ProductDev   Association       1   \n",
              "3  CompanySponsored          C2000  Preservation         Trust       1   \n",
              "4       Independent          C1000     Heathcare         Trust       1   \n",
              "\n",
              "      INCOME_AMT SPECIAL_CONSIDERATIONS  ASK_AMT  IS_SUCCESSFUL  \n",
              "0              0                      N     5000              1  \n",
              "1         1-9999                      N   108590              1  \n",
              "2              0                      N     5000              0  \n",
              "3    10000-24999                      N     6692              1  \n",
              "4  100000-499999                      N   142590              1  "
            ]
          },
          "execution_count": 17,
          "metadata": {},
          "output_type": "execute_result"
        }
      ],
      "source": [
        "# Import our dependencies\n",
        "from sklearn.model_selection import train_test_split\n",
        "from sklearn.preprocessing import StandardScaler\n",
        "import pandas as pd\n",
        "import tensorflow as tf\n",
        "\n",
        "#  Import and read the charity_data.csv.\n",
        "import pandas as pd\n",
        "application_df = pd.read_csv(\"https://static.bc-edx.com/data/dl-1-2/m21/lms/starter/charity_data.csv\")\n",
        "application_df.head()"
      ]
    },
    {
      "cell_type": "code",
      "execution_count": 18,
      "metadata": {
        "colab": {
          "base_uri": "https://localhost:8080/",
          "height": 244
        },
        "id": "sg_xmBXKULH9",
        "outputId": "a87bfc4f-8f07-463e-a16e-10b19d81c4e0"
      },
      "outputs": [
        {
          "data": {
            "text/html": [
              "<div>\n",
              "<style scoped>\n",
              "    .dataframe tbody tr th:only-of-type {\n",
              "        vertical-align: middle;\n",
              "    }\n",
              "\n",
              "    .dataframe tbody tr th {\n",
              "        vertical-align: top;\n",
              "    }\n",
              "\n",
              "    .dataframe thead th {\n",
              "        text-align: right;\n",
              "    }\n",
              "</style>\n",
              "<table border=\"1\" class=\"dataframe\">\n",
              "  <thead>\n",
              "    <tr style=\"text-align: right;\">\n",
              "      <th></th>\n",
              "      <th>APPLICATION_TYPE</th>\n",
              "      <th>AFFILIATION</th>\n",
              "      <th>CLASSIFICATION</th>\n",
              "      <th>USE_CASE</th>\n",
              "      <th>ORGANIZATION</th>\n",
              "      <th>STATUS</th>\n",
              "      <th>INCOME_AMT</th>\n",
              "      <th>SPECIAL_CONSIDERATIONS</th>\n",
              "      <th>ASK_AMT</th>\n",
              "      <th>IS_SUCCESSFUL</th>\n",
              "    </tr>\n",
              "  </thead>\n",
              "  <tbody>\n",
              "    <tr>\n",
              "      <th>0</th>\n",
              "      <td>T10</td>\n",
              "      <td>Independent</td>\n",
              "      <td>C1000</td>\n",
              "      <td>ProductDev</td>\n",
              "      <td>Association</td>\n",
              "      <td>1</td>\n",
              "      <td>0</td>\n",
              "      <td>N</td>\n",
              "      <td>5000</td>\n",
              "      <td>1</td>\n",
              "    </tr>\n",
              "    <tr>\n",
              "      <th>1</th>\n",
              "      <td>T3</td>\n",
              "      <td>Independent</td>\n",
              "      <td>C2000</td>\n",
              "      <td>Preservation</td>\n",
              "      <td>Co-operative</td>\n",
              "      <td>1</td>\n",
              "      <td>1-9999</td>\n",
              "      <td>N</td>\n",
              "      <td>108590</td>\n",
              "      <td>1</td>\n",
              "    </tr>\n",
              "    <tr>\n",
              "      <th>2</th>\n",
              "      <td>T5</td>\n",
              "      <td>CompanySponsored</td>\n",
              "      <td>C3000</td>\n",
              "      <td>ProductDev</td>\n",
              "      <td>Association</td>\n",
              "      <td>1</td>\n",
              "      <td>0</td>\n",
              "      <td>N</td>\n",
              "      <td>5000</td>\n",
              "      <td>0</td>\n",
              "    </tr>\n",
              "    <tr>\n",
              "      <th>3</th>\n",
              "      <td>T3</td>\n",
              "      <td>CompanySponsored</td>\n",
              "      <td>C2000</td>\n",
              "      <td>Preservation</td>\n",
              "      <td>Trust</td>\n",
              "      <td>1</td>\n",
              "      <td>10000-24999</td>\n",
              "      <td>N</td>\n",
              "      <td>6692</td>\n",
              "      <td>1</td>\n",
              "    </tr>\n",
              "    <tr>\n",
              "      <th>4</th>\n",
              "      <td>T3</td>\n",
              "      <td>Independent</td>\n",
              "      <td>C1000</td>\n",
              "      <td>Heathcare</td>\n",
              "      <td>Trust</td>\n",
              "      <td>1</td>\n",
              "      <td>100000-499999</td>\n",
              "      <td>N</td>\n",
              "      <td>142590</td>\n",
              "      <td>1</td>\n",
              "    </tr>\n",
              "  </tbody>\n",
              "</table>\n",
              "</div>"
            ],
            "text/plain": [
              "  APPLICATION_TYPE       AFFILIATION CLASSIFICATION      USE_CASE  \\\n",
              "0              T10       Independent          C1000    ProductDev   \n",
              "1               T3       Independent          C2000  Preservation   \n",
              "2               T5  CompanySponsored          C3000    ProductDev   \n",
              "3               T3  CompanySponsored          C2000  Preservation   \n",
              "4               T3       Independent          C1000     Heathcare   \n",
              "\n",
              "   ORGANIZATION  STATUS     INCOME_AMT SPECIAL_CONSIDERATIONS  ASK_AMT  \\\n",
              "0   Association       1              0                      N     5000   \n",
              "1  Co-operative       1         1-9999                      N   108590   \n",
              "2   Association       1              0                      N     5000   \n",
              "3         Trust       1    10000-24999                      N     6692   \n",
              "4         Trust       1  100000-499999                      N   142590   \n",
              "\n",
              "   IS_SUCCESSFUL  \n",
              "0              1  \n",
              "1              1  \n",
              "2              0  \n",
              "3              1  \n",
              "4              1  "
            ]
          },
          "execution_count": 18,
          "metadata": {},
          "output_type": "execute_result"
        }
      ],
      "source": [
        "# Drop the non-beneficial ID columns, 'EIN' and 'NAME'.\n",
        "application_df = application_df.drop([\"EIN\", \"NAME\"], axis=1)\n",
        "application_df.head()"
      ]
    },
    {
      "cell_type": "code",
      "execution_count": 19,
      "metadata": {
        "colab": {
          "base_uri": "https://localhost:8080/"
        },
        "id": "QXbXkvh8ULH9",
        "outputId": "857ca1bd-df2d-4909-b79a-eb6f8a5293a9"
      },
      "outputs": [
        {
          "data": {
            "text/plain": [
              "APPLICATION_TYPE            17\n",
              "AFFILIATION                  6\n",
              "CLASSIFICATION              71\n",
              "USE_CASE                     5\n",
              "ORGANIZATION                 4\n",
              "STATUS                       2\n",
              "INCOME_AMT                   9\n",
              "SPECIAL_CONSIDERATIONS       2\n",
              "ASK_AMT                   8747\n",
              "IS_SUCCESSFUL                2\n",
              "dtype: int64"
            ]
          },
          "execution_count": 19,
          "metadata": {},
          "output_type": "execute_result"
        }
      ],
      "source": [
        "# Determine the number of unique values in each column.\n",
        "application_df.nunique()"
      ]
    },
    {
      "cell_type": "code",
      "execution_count": 20,
      "metadata": {
        "colab": {
          "base_uri": "https://localhost:8080/"
        },
        "id": "6jC3tDmqULH9",
        "outputId": "df971e87-4732-44e2-964d-7255177ad068"
      },
      "outputs": [
        {
          "data": {
            "text/plain": [
              "APPLICATION_TYPE\n",
              "T3     27037\n",
              "T4      1542\n",
              "T6      1216\n",
              "T5      1173\n",
              "T19     1065\n",
              "T8       737\n",
              "T7       725\n",
              "T10      528\n",
              "T9       156\n",
              "T13       66\n",
              "T12       27\n",
              "T2        16\n",
              "T25        3\n",
              "T14        3\n",
              "T29        2\n",
              "T15        2\n",
              "T17        1\n",
              "Name: count, dtype: int64"
            ]
          },
          "execution_count": 20,
          "metadata": {},
          "output_type": "execute_result"
        }
      ],
      "source": [
        "# Look at APPLICATION_TYPE value counts for binning\n",
        "application_counts = application_df.APPLICATION_TYPE.value_counts()\n",
        "application_counts"
      ]
    },
    {
      "cell_type": "code",
      "execution_count": 21,
      "metadata": {
        "colab": {
          "base_uri": "https://localhost:8080/"
        },
        "id": "ru7fU2TxULH-",
        "outputId": "d3a1879d-67ff-42a9-9302-86a43619d929"
      },
      "outputs": [
        {
          "data": {
            "text/plain": [
              "APPLICATION_TYPE\n",
              "T3       27037\n",
              "T4        1542\n",
              "T6        1216\n",
              "T5        1173\n",
              "T19       1065\n",
              "T8         737\n",
              "T7         725\n",
              "T10        528\n",
              "Other      276\n",
              "Name: count, dtype: int64"
            ]
          },
          "execution_count": 21,
          "metadata": {},
          "output_type": "execute_result"
        }
      ],
      "source": [
        "# Choose a cutoff value and create a list of application types to be replaced\n",
        "# use the variable name `application_types_to_replace`\n",
        "application_types_to_replace = list(application_counts[application_counts < 500].index)\n",
        "\n",
        "# Replace in dataframe\n",
        "for app in application_types_to_replace:\n",
        "    application_df['APPLICATION_TYPE'] = application_df['APPLICATION_TYPE'].replace(app,\"Other\")\n",
        "\n",
        "# Check to make sure binning was successful\n",
        "application_df['APPLICATION_TYPE'].value_counts()"
      ]
    },
    {
      "cell_type": "code",
      "execution_count": 22,
      "metadata": {
        "colab": {
          "base_uri": "https://localhost:8080/"
        },
        "id": "SOWSvS_tULH-",
        "outputId": "c79e6c54-8825-47b5-f2dd-75c6d66d3f8f"
      },
      "outputs": [
        {
          "data": {
            "text/plain": [
              "CLASSIFICATION\n",
              "C1000    17326\n",
              "C2000     6074\n",
              "C1200     4837\n",
              "C3000     1918\n",
              "C2100     1883\n",
              "         ...  \n",
              "C4120        1\n",
              "C8210        1\n",
              "C2561        1\n",
              "C4500        1\n",
              "C2150        1\n",
              "Name: count, Length: 71, dtype: int64"
            ]
          },
          "execution_count": 22,
          "metadata": {},
          "output_type": "execute_result"
        }
      ],
      "source": [
        "# Look at CLASSIFICATION value counts for binning\n",
        "classification_counts = application_df.CLASSIFICATION.value_counts()\n",
        "classification_counts"
      ]
    },
    {
      "cell_type": "code",
      "execution_count": 23,
      "metadata": {
        "colab": {
          "base_uri": "https://localhost:8080/"
        },
        "id": "HjpsXXvLULH_",
        "outputId": "aa7f8611-15cf-449a-81bd-10533b4b5f44"
      },
      "outputs": [
        {
          "data": {
            "text/plain": [
              "CLASSIFICATION\n",
              "C1000    17326\n",
              "C2000     6074\n",
              "C1200     4837\n",
              "C3000     1918\n",
              "C2100     1883\n",
              "C7000      777\n",
              "C1700      287\n",
              "C4000      194\n",
              "C5000      116\n",
              "C1270      114\n",
              "C2700      104\n",
              "C2800       95\n",
              "C7100       75\n",
              "C1300       58\n",
              "C1280       50\n",
              "C1230       36\n",
              "C1400       34\n",
              "C7200       32\n",
              "C2300       32\n",
              "C1240       30\n",
              "C8000       20\n",
              "C7120       18\n",
              "C1500       16\n",
              "C1800       15\n",
              "C6000       15\n",
              "C1250       14\n",
              "C8200       11\n",
              "C1238       10\n",
              "C1278       10\n",
              "C1235        9\n",
              "C1237        9\n",
              "C7210        7\n",
              "C2400        6\n",
              "C1720        6\n",
              "C4100        6\n",
              "C1257        5\n",
              "C1600        5\n",
              "C1260        3\n",
              "C2710        3\n",
              "C0           3\n",
              "C3200        2\n",
              "C1234        2\n",
              "C1246        2\n",
              "C1267        2\n",
              "C1256        2\n",
              "Name: count, dtype: int64"
            ]
          },
          "execution_count": 23,
          "metadata": {},
          "output_type": "execute_result"
        }
      ],
      "source": [
        "# You may find it helpful to look at CLASSIFICATION value counts >1\n",
        "classification_counts[classification_counts > 1]"
      ]
    },
    {
      "cell_type": "code",
      "execution_count": 24,
      "metadata": {
        "colab": {
          "base_uri": "https://localhost:8080/"
        },
        "id": "N3BOmurkULIA",
        "outputId": "3651e6c0-d0bc-482e-a104-7e3a81b6ceb7"
      },
      "outputs": [
        {
          "data": {
            "text/plain": [
              "CLASSIFICATION\n",
              "C1000    17326\n",
              "C2000     6074\n",
              "C1200     4837\n",
              "Other     2261\n",
              "C3000     1918\n",
              "C2100     1883\n",
              "Name: count, dtype: int64"
            ]
          },
          "execution_count": 24,
          "metadata": {},
          "output_type": "execute_result"
        }
      ],
      "source": [
        "# Choose a cutoff value and create a list of classifications to be replaced\n",
        "# use the variable name `classifications_to_replace`\n",
        "classifications_to_replace = list(classification_counts[classification_counts < 1000].index)\n",
        "\n",
        "# Replace in dataframe\n",
        "for cls in classifications_to_replace:\n",
        "    application_df['CLASSIFICATION'] = application_df['CLASSIFICATION'].replace(cls,\"Other\")\n",
        "\n",
        "# Check to make sure binning was successful\n",
        "application_df['CLASSIFICATION'].value_counts()"
      ]
    },
    {
      "cell_type": "code",
      "execution_count": 25,
      "metadata": {
        "id": "RNNzeY2XULIA"
      },
      "outputs": [],
      "source": [
        "# Convert categorical data to numeric with `pd.get_dummies`\n",
        "application_df = pd.get_dummies(application_df)"
      ]
    },
    {
      "cell_type": "code",
      "execution_count": 26,
      "metadata": {
        "id": "pji1LTsGULIB"
      },
      "outputs": [],
      "source": [
        "# Split our preprocessed data into our features and target arrays\n",
        "y = application_df[\"IS_SUCCESSFUL\"].values\n",
        "X = application_df.drop([\"IS_SUCCESSFUL\"], axis=1).values\n",
        "\n",
        "# Split the preprocessed data into a training and testing dataset\n",
        "X_train, X_test, y_train, y_test = train_test_split(X, y, random_state=42, stratify=y)"
      ]
    },
    {
      "cell_type": "code",
      "execution_count": 27,
      "metadata": {
        "id": "7t1DgKBcULIB"
      },
      "outputs": [],
      "source": [
        "# Create a StandardScaler instances\n",
        "scaler = StandardScaler()\n",
        "\n",
        "# Fit the StandardScaler\n",
        "X_scaler = scaler.fit(X_train)\n",
        "\n",
        "# Scale the data\n",
        "X_train_scaled = X_scaler.transform(X_train)\n",
        "X_test_scaled = X_scaler.transform(X_test)"
      ]
    },
    {
      "cell_type": "markdown",
      "metadata": {
        "id": "mVn4HxvsULIB"
      },
      "source": [
        "## Compile, Train and Evaluate the Model"
      ]
    },
    {
      "cell_type": "code",
      "execution_count": 28,
      "metadata": {
        "colab": {
          "base_uri": "https://localhost:8080/"
        },
        "id": "KN0v62a1ULIB",
        "outputId": "4fc18a2c-9f45-4cda-ec90-239a9dde0ba0"
      },
      "outputs": [
        {
          "name": "stdout",
          "output_type": "stream",
          "text": [
            "Model: \"sequential_1\"\n",
            "_________________________________________________________________\n",
            " Layer (type)                Output Shape              Param #   \n",
            "=================================================================\n",
            " dense_3 (Dense)             (None, 80)                3520      \n",
            "                                                                 \n",
            " dense_4 (Dense)             (None, 30)                2430      \n",
            "                                                                 \n",
            " dense_5 (Dense)             (None, 1)                 31        \n",
            "                                                                 \n",
            "=================================================================\n",
            "Total params: 5981 (23.36 KB)\n",
            "Trainable params: 5981 (23.36 KB)\n",
            "Non-trainable params: 0 (0.00 Byte)\n",
            "_________________________________________________________________\n"
          ]
        }
      ],
      "source": [
        "# Define the model - deep neural net, i.e., the number of input features and hidden nodes for each layer.\n",
        "#  YOUR CODE GOES HERE\n",
        "\n",
        "nn = tf.keras.models.Sequential()\n",
        "\n",
        "# First hidden layer\n",
        "nn.add(tf.keras.layers.Dense(units=80, activation=\"relu\", input_dim=43))\n",
        "\n",
        "# Second hidden layer\n",
        "nn.add(tf.keras.layers.Dense(units=30, activation=\"relu\"))\n",
        "\n",
        "# Output layer\n",
        "nn.add(tf.keras.layers.Dense(units=1, activation=\"sigmoid\"))\n",
        "\n",
        "# Check the structure of the model\n",
        "nn.summary()"
      ]
    },
    {
      "cell_type": "code",
      "execution_count": 29,
      "metadata": {
        "id": "55n0gOvrULIB"
      },
      "outputs": [],
      "source": [
        "# Compile the model\n",
        "nn.compile(loss=\"binary_crossentropy\", optimizer=\"adam\", metrics=[\"accuracy\"])"
      ]
    },
    {
      "cell_type": "code",
      "execution_count": 30,
      "metadata": {
        "colab": {
          "base_uri": "https://localhost:8080/"
        },
        "id": "mVQ-c1VxULIC",
        "outputId": "25e7a499-7536-4067-c4ba-29344c436cbc"
      },
      "outputs": [
        {
          "name": "stdout",
          "output_type": "stream",
          "text": [
            "Epoch 1/100\n",
            "804/804 [==============================] - 1s 484us/step - loss: 0.5708 - accuracy: 0.7220\n",
            "Epoch 2/100\n",
            "804/804 [==============================] - 0s 473us/step - loss: 0.5546 - accuracy: 0.7319\n",
            "Epoch 3/100\n",
            "804/804 [==============================] - 0s 474us/step - loss: 0.5511 - accuracy: 0.7332\n",
            "Epoch 4/100\n",
            "804/804 [==============================] - 0s 529us/step - loss: 0.5499 - accuracy: 0.7332\n",
            "Epoch 5/100\n",
            "804/804 [==============================] - 0s 577us/step - loss: 0.5491 - accuracy: 0.7347\n",
            "Epoch 6/100\n",
            "804/804 [==============================] - 0s 519us/step - loss: 0.5475 - accuracy: 0.7355\n",
            "Epoch 7/100\n",
            "804/804 [==============================] - 0s 573us/step - loss: 0.5469 - accuracy: 0.7350\n",
            "Epoch 8/100\n",
            "804/804 [==============================] - 0s 544us/step - loss: 0.5460 - accuracy: 0.7341\n",
            "Epoch 9/100\n",
            "804/804 [==============================] - 0s 499us/step - loss: 0.5455 - accuracy: 0.7351\n",
            "Epoch 10/100\n",
            "804/804 [==============================] - 0s 485us/step - loss: 0.5450 - accuracy: 0.7370\n",
            "Epoch 11/100\n",
            "804/804 [==============================] - 0s 486us/step - loss: 0.5449 - accuracy: 0.7351\n",
            "Epoch 12/100\n",
            "804/804 [==============================] - 0s 485us/step - loss: 0.5444 - accuracy: 0.7362\n",
            "Epoch 13/100\n",
            "804/804 [==============================] - 0s 484us/step - loss: 0.5439 - accuracy: 0.7356\n",
            "Epoch 14/100\n",
            "804/804 [==============================] - 0s 486us/step - loss: 0.5437 - accuracy: 0.7366\n",
            "Epoch 15/100\n",
            "804/804 [==============================] - 0s 486us/step - loss: 0.5433 - accuracy: 0.7374\n",
            "Epoch 16/100\n",
            "804/804 [==============================] - 0s 487us/step - loss: 0.5435 - accuracy: 0.7363\n",
            "Epoch 17/100\n",
            "804/804 [==============================] - 0s 485us/step - loss: 0.5428 - accuracy: 0.7369\n",
            "Epoch 18/100\n",
            "804/804 [==============================] - 0s 486us/step - loss: 0.5427 - accuracy: 0.7365\n",
            "Epoch 19/100\n",
            "804/804 [==============================] - 0s 486us/step - loss: 0.5426 - accuracy: 0.7367\n",
            "Epoch 20/100\n",
            "804/804 [==============================] - 0s 484us/step - loss: 0.5419 - accuracy: 0.7377\n",
            "Epoch 21/100\n",
            "804/804 [==============================] - 0s 521us/step - loss: 0.5421 - accuracy: 0.7380\n",
            "Epoch 22/100\n",
            "804/804 [==============================] - 0s 486us/step - loss: 0.5420 - accuracy: 0.7369\n",
            "Epoch 23/100\n",
            "804/804 [==============================] - 0s 485us/step - loss: 0.5414 - accuracy: 0.7378\n",
            "Epoch 24/100\n",
            "804/804 [==============================] - 0s 486us/step - loss: 0.5413 - accuracy: 0.7382\n",
            "Epoch 25/100\n",
            "804/804 [==============================] - 0s 495us/step - loss: 0.5409 - accuracy: 0.7391\n",
            "Epoch 26/100\n",
            "804/804 [==============================] - 0s 484us/step - loss: 0.5407 - accuracy: 0.7375\n",
            "Epoch 27/100\n",
            "804/804 [==============================] - 0s 484us/step - loss: 0.5408 - accuracy: 0.7378\n",
            "Epoch 28/100\n",
            "804/804 [==============================] - 0s 485us/step - loss: 0.5403 - accuracy: 0.7376\n",
            "Epoch 29/100\n",
            "804/804 [==============================] - 0s 487us/step - loss: 0.5405 - accuracy: 0.7381\n",
            "Epoch 30/100\n",
            "804/804 [==============================] - 0s 481us/step - loss: 0.5405 - accuracy: 0.7383\n",
            "Epoch 31/100\n",
            "804/804 [==============================] - 0s 485us/step - loss: 0.5402 - accuracy: 0.7392\n",
            "Epoch 32/100\n",
            "804/804 [==============================] - 0s 486us/step - loss: 0.5396 - accuracy: 0.7396\n",
            "Epoch 33/100\n",
            "804/804 [==============================] - 0s 484us/step - loss: 0.5395 - accuracy: 0.7386\n",
            "Epoch 34/100\n",
            "804/804 [==============================] - 0s 483us/step - loss: 0.5395 - accuracy: 0.7392\n",
            "Epoch 35/100\n",
            "804/804 [==============================] - 0s 482us/step - loss: 0.5395 - accuracy: 0.7383\n",
            "Epoch 36/100\n",
            "804/804 [==============================] - 0s 487us/step - loss: 0.5391 - accuracy: 0.7385\n",
            "Epoch 37/100\n",
            "804/804 [==============================] - 0s 484us/step - loss: 0.5395 - accuracy: 0.7390\n",
            "Epoch 38/100\n",
            "804/804 [==============================] - 0s 532us/step - loss: 0.5389 - accuracy: 0.7394\n",
            "Epoch 39/100\n",
            "804/804 [==============================] - 0s 485us/step - loss: 0.5388 - accuracy: 0.7388\n",
            "Epoch 40/100\n",
            "804/804 [==============================] - 0s 483us/step - loss: 0.5383 - accuracy: 0.7395\n",
            "Epoch 41/100\n",
            "804/804 [==============================] - 0s 483us/step - loss: 0.5390 - accuracy: 0.7395\n",
            "Epoch 42/100\n",
            "804/804 [==============================] - 0s 486us/step - loss: 0.5382 - accuracy: 0.7388\n",
            "Epoch 43/100\n",
            "804/804 [==============================] - 0s 486us/step - loss: 0.5384 - accuracy: 0.7396\n",
            "Epoch 44/100\n",
            "804/804 [==============================] - 0s 486us/step - loss: 0.5383 - accuracy: 0.7407\n",
            "Epoch 45/100\n",
            "804/804 [==============================] - 0s 484us/step - loss: 0.5384 - accuracy: 0.7394\n",
            "Epoch 46/100\n",
            "804/804 [==============================] - 0s 485us/step - loss: 0.5384 - accuracy: 0.7400\n",
            "Epoch 47/100\n",
            "804/804 [==============================] - 0s 485us/step - loss: 0.5382 - accuracy: 0.7402\n",
            "Epoch 48/100\n",
            "804/804 [==============================] - 0s 482us/step - loss: 0.5380 - accuracy: 0.7386\n",
            "Epoch 49/100\n",
            "804/804 [==============================] - 0s 484us/step - loss: 0.5375 - accuracy: 0.7400\n",
            "Epoch 50/100\n",
            "804/804 [==============================] - 0s 485us/step - loss: 0.5380 - accuracy: 0.7402\n",
            "Epoch 51/100\n",
            "804/804 [==============================] - 0s 484us/step - loss: 0.5372 - accuracy: 0.7397\n",
            "Epoch 52/100\n",
            "804/804 [==============================] - 0s 493us/step - loss: 0.5376 - accuracy: 0.7404\n",
            "Epoch 53/100\n",
            "804/804 [==============================] - 0s 521us/step - loss: 0.5375 - accuracy: 0.7407\n",
            "Epoch 54/100\n",
            "804/804 [==============================] - 0s 486us/step - loss: 0.5370 - accuracy: 0.7405\n",
            "Epoch 55/100\n",
            "804/804 [==============================] - 0s 484us/step - loss: 0.5373 - accuracy: 0.7397\n",
            "Epoch 56/100\n",
            "804/804 [==============================] - 0s 486us/step - loss: 0.5372 - accuracy: 0.7394\n",
            "Epoch 57/100\n",
            "804/804 [==============================] - 0s 481us/step - loss: 0.5370 - accuracy: 0.7411\n",
            "Epoch 58/100\n",
            "804/804 [==============================] - 0s 485us/step - loss: 0.5369 - accuracy: 0.7400\n",
            "Epoch 59/100\n",
            "804/804 [==============================] - 0s 483us/step - loss: 0.5369 - accuracy: 0.7406\n",
            "Epoch 60/100\n",
            "804/804 [==============================] - 0s 484us/step - loss: 0.5366 - accuracy: 0.7411\n",
            "Epoch 61/100\n",
            "804/804 [==============================] - 0s 482us/step - loss: 0.5362 - accuracy: 0.7407\n",
            "Epoch 62/100\n",
            "804/804 [==============================] - 0s 484us/step - loss: 0.5367 - accuracy: 0.7409\n",
            "Epoch 63/100\n",
            "804/804 [==============================] - 0s 487us/step - loss: 0.5366 - accuracy: 0.7411\n",
            "Epoch 64/100\n",
            "804/804 [==============================] - 0s 482us/step - loss: 0.5365 - accuracy: 0.7409\n",
            "Epoch 65/100\n",
            "804/804 [==============================] - 0s 519us/step - loss: 0.5363 - accuracy: 0.7407\n",
            "Epoch 66/100\n",
            "804/804 [==============================] - 0s 484us/step - loss: 0.5364 - accuracy: 0.7406\n",
            "Epoch 67/100\n",
            "804/804 [==============================] - 0s 493us/step - loss: 0.5365 - accuracy: 0.7415\n",
            "Epoch 68/100\n",
            "804/804 [==============================] - 0s 487us/step - loss: 0.5365 - accuracy: 0.7404\n",
            "Epoch 69/100\n",
            "804/804 [==============================] - 0s 483us/step - loss: 0.5360 - accuracy: 0.7407\n",
            "Epoch 70/100\n",
            "804/804 [==============================] - 0s 485us/step - loss: 0.5360 - accuracy: 0.7413\n",
            "Epoch 71/100\n",
            "804/804 [==============================] - 0s 483us/step - loss: 0.5357 - accuracy: 0.7400\n",
            "Epoch 72/100\n",
            "804/804 [==============================] - 0s 482us/step - loss: 0.5356 - accuracy: 0.7414\n",
            "Epoch 73/100\n",
            "804/804 [==============================] - 0s 486us/step - loss: 0.5363 - accuracy: 0.7409\n",
            "Epoch 74/100\n",
            "804/804 [==============================] - 0s 486us/step - loss: 0.5357 - accuracy: 0.7417\n",
            "Epoch 75/100\n",
            "804/804 [==============================] - 0s 484us/step - loss: 0.5357 - accuracy: 0.7421\n",
            "Epoch 76/100\n",
            "804/804 [==============================] - 0s 484us/step - loss: 0.5357 - accuracy: 0.7408\n",
            "Epoch 77/100\n",
            "804/804 [==============================] - 0s 485us/step - loss: 0.5356 - accuracy: 0.7410\n",
            "Epoch 78/100\n",
            "804/804 [==============================] - 0s 514us/step - loss: 0.5353 - accuracy: 0.7409\n",
            "Epoch 79/100\n",
            "804/804 [==============================] - 0s 485us/step - loss: 0.5350 - accuracy: 0.7411\n",
            "Epoch 80/100\n",
            "804/804 [==============================] - 0s 483us/step - loss: 0.5358 - accuracy: 0.7406\n",
            "Epoch 81/100\n",
            "804/804 [==============================] - 0s 485us/step - loss: 0.5352 - accuracy: 0.7411\n",
            "Epoch 82/100\n",
            "804/804 [==============================] - 0s 493us/step - loss: 0.5356 - accuracy: 0.7403\n",
            "Epoch 83/100\n",
            "804/804 [==============================] - 0s 483us/step - loss: 0.5355 - accuracy: 0.7414\n",
            "Epoch 84/100\n",
            "804/804 [==============================] - 0s 485us/step - loss: 0.5352 - accuracy: 0.7413\n",
            "Epoch 85/100\n",
            "804/804 [==============================] - 0s 486us/step - loss: 0.5352 - accuracy: 0.7409\n",
            "Epoch 86/100\n",
            "804/804 [==============================] - 0s 482us/step - loss: 0.5354 - accuracy: 0.7414\n",
            "Epoch 87/100\n",
            "804/804 [==============================] - 0s 485us/step - loss: 0.5354 - accuracy: 0.7413\n",
            "Epoch 88/100\n",
            "804/804 [==============================] - 0s 482us/step - loss: 0.5351 - accuracy: 0.7411\n",
            "Epoch 89/100\n",
            "804/804 [==============================] - 0s 485us/step - loss: 0.5354 - accuracy: 0.7406\n",
            "Epoch 90/100\n",
            "804/804 [==============================] - 0s 483us/step - loss: 0.5351 - accuracy: 0.7413\n",
            "Epoch 91/100\n",
            "804/804 [==============================] - 0s 519us/step - loss: 0.5349 - accuracy: 0.7408\n",
            "Epoch 92/100\n",
            "804/804 [==============================] - 0s 485us/step - loss: 0.5349 - accuracy: 0.7416\n",
            "Epoch 93/100\n",
            "804/804 [==============================] - 0s 485us/step - loss: 0.5354 - accuracy: 0.7411\n",
            "Epoch 94/100\n",
            "804/804 [==============================] - 0s 481us/step - loss: 0.5345 - accuracy: 0.7419\n",
            "Epoch 95/100\n",
            "804/804 [==============================] - 0s 484us/step - loss: 0.5348 - accuracy: 0.7405\n",
            "Epoch 96/100\n",
            "804/804 [==============================] - 0s 483us/step - loss: 0.5359 - accuracy: 0.7411\n",
            "Epoch 97/100\n",
            "804/804 [==============================] - 0s 495us/step - loss: 0.5346 - accuracy: 0.7414\n",
            "Epoch 98/100\n",
            "804/804 [==============================] - 0s 483us/step - loss: 0.5345 - accuracy: 0.7416\n",
            "Epoch 99/100\n",
            "804/804 [==============================] - 0s 485us/step - loss: 0.5349 - accuracy: 0.7416\n",
            "Epoch 100/100\n",
            "804/804 [==============================] - 0s 482us/step - loss: 0.5345 - accuracy: 0.7417\n"
          ]
        }
      ],
      "source": [
        "# Train the model\n",
        "fit_model = nn.fit(X_train_scaled, y_train, epochs=100)"
      ]
    },
    {
      "cell_type": "code",
      "execution_count": 31,
      "metadata": {
        "colab": {
          "base_uri": "https://localhost:8080/"
        },
        "id": "4S6LDiqVULIC",
        "outputId": "6c9d160e-3cd1-4326-9967-33aec207fb42"
      },
      "outputs": [
        {
          "name": "stdout",
          "output_type": "stream",
          "text": [
            "268/268 - 0s - loss: 0.5607 - accuracy: 0.7261 - 144ms/epoch - 538us/step\n",
            "Loss: 0.5606702566146851, Accuracy: 0.726064145565033\n"
          ]
        }
      ],
      "source": [
        "# Evaluate the model using the test data\n",
        "model_loss, model_accuracy = nn.evaluate(X_test_scaled,y_test,verbose=2)\n",
        "print(f\"Loss: {model_loss}, Accuracy: {model_accuracy}\")"
      ]
    },
    {
      "cell_type": "code",
      "execution_count": 32,
      "metadata": {
        "id": "1jow8LJMULIC"
      },
      "outputs": [
        {
          "name": "stderr",
          "output_type": "stream",
          "text": [
            "/Users/kaijagregory/Library/Python/3.9/lib/python/site-packages/keras/src/engine/training.py:3103: UserWarning: You are saving your model as an HDF5 file via `model.save()`. This file format is considered legacy. We recommend using instead the native Keras format, e.g. `model.save('my_model.keras')`.\n",
            "  saving_api.save_model(\n"
          ]
        }
      ],
      "source": [
        "# Export our model to HDF5 file\n",
        "nn.save(\"AlphabetSoupCharity.h5\")"
      ]
    }
  ],
  "metadata": {
    "colab": {
      "provenance": []
    },
    "kernelspec": {
      "display_name": "Python 3",
      "language": "python",
      "name": "python3"
    },
    "language_info": {
      "codemirror_mode": {
        "name": "ipython",
        "version": 3
      },
      "file_extension": ".py",
      "mimetype": "text/x-python",
      "name": "python",
      "nbconvert_exporter": "python",
      "pygments_lexer": "ipython3",
      "version": "3.9.6"
    },
    "vscode": {
      "interpreter": {
        "hash": "31f2aee4e71d21fbe5cf8b01ff0e069b9275f58929596ceb00d14d90e3e16cd6"
      }
    }
  },
  "nbformat": 4,
  "nbformat_minor": 0
}
